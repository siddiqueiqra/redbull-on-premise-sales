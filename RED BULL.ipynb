{
 "cells": [
  {
   "cell_type": "markdown",
   "id": "0c0a71e8",
   "metadata": {},
   "source": [
    "# Red Bull Logo\n",
    "## On-Premise Sales Analysis"
   ]
  },
  {
   "cell_type": "code",
   "execution_count": 64,
   "id": "385cc94b",
   "metadata": {},
   "outputs": [],
   "source": [
    "import pandas as pd\n",
    "import numpy as np\n",
    "import seaborn as sns\n",
    "import matplotlib.pyplot as plt"
   ]
  },
  {
   "cell_type": "code",
   "execution_count": 65,
   "id": "09d611b2",
   "metadata": {},
   "outputs": [],
   "source": [
    "df=pd.read_csv(r\"C:\\Users\\Lenovo\\Downloads\\Account Sales Data for Analysis v2.csv\")"
   ]
  },
  {
   "cell_type": "code",
   "execution_count": 66,
   "id": "a875b213",
   "metadata": {},
   "outputs": [
    {
     "data": {
      "text/html": [
       "<div>\n",
       "<style scoped>\n",
       "    .dataframe tbody tr th:only-of-type {\n",
       "        vertical-align: middle;\n",
       "    }\n",
       "\n",
       "    .dataframe tbody tr th {\n",
       "        vertical-align: top;\n",
       "    }\n",
       "\n",
       "    .dataframe thead th {\n",
       "        text-align: right;\n",
       "    }\n",
       "</style>\n",
       "<table border=\"1\" class=\"dataframe\">\n",
       "  <thead>\n",
       "    <tr style=\"text-align: right;\">\n",
       "      <th></th>\n",
       "      <th>Account Name</th>\n",
       "      <th>Account Address</th>\n",
       "      <th>Decision Maker</th>\n",
       "      <th>Phone Number</th>\n",
       "      <th>Account Type</th>\n",
       "      <th>Regular</th>\n",
       "      <th>Sugar Free</th>\n",
       "      <th>Yellow Edition</th>\n",
       "      <th>Cooler?</th>\n",
       "      <th>Digital screen?</th>\n",
       "      <th>Menu inclusion?</th>\n",
       "      <th>Posters?</th>\n",
       "      <th>2017</th>\n",
       "      <th>2018</th>\n",
       "      <th>2019</th>\n",
       "      <th>2020</th>\n",
       "      <th>2021</th>\n",
       "      <th>CAGR</th>\n",
       "    </tr>\n",
       "  </thead>\n",
       "  <tbody>\n",
       "    <tr>\n",
       "      <th>0</th>\n",
       "      <td>Bar 1</td>\n",
       "      <td>2131 Patterson Road, Brooklyn NY 11201</td>\n",
       "      <td>Dorothy Rizzo</td>\n",
       "      <td>(880) 283-6803</td>\n",
       "      <td>Bar</td>\n",
       "      <td>Yes</td>\n",
       "      <td>Yes</td>\n",
       "      <td>Yes</td>\n",
       "      <td>Yes</td>\n",
       "      <td>Yes</td>\n",
       "      <td>Yes</td>\n",
       "      <td>Yes</td>\n",
       "      <td>1982</td>\n",
       "      <td>5388</td>\n",
       "      <td>7063</td>\n",
       "      <td>7208</td>\n",
       "      <td>9093</td>\n",
       "      <td>36%</td>\n",
       "    </tr>\n",
       "    <tr>\n",
       "      <th>1</th>\n",
       "      <td>Bar 2</td>\n",
       "      <td>3685 Morningview Lane, New York NY 10013</td>\n",
       "      <td>Lawson Moore</td>\n",
       "      <td>(711) 426-7350</td>\n",
       "      <td>Bar</td>\n",
       "      <td>Yes</td>\n",
       "      <td>Yes</td>\n",
       "      <td>Yes</td>\n",
       "      <td>No</td>\n",
       "      <td>Yes</td>\n",
       "      <td>Yes</td>\n",
       "      <td>Yes</td>\n",
       "      <td>2786</td>\n",
       "      <td>3804</td>\n",
       "      <td>4121</td>\n",
       "      <td>6210</td>\n",
       "      <td>6909</td>\n",
       "      <td>20%</td>\n",
       "    </tr>\n",
       "    <tr>\n",
       "      <th>2</th>\n",
       "      <td>Bar 3</td>\n",
       "      <td>2285 Ladybug Drive, New York NY 10013</td>\n",
       "      <td>Vin Hudson</td>\n",
       "      <td>(952) 952-5573</td>\n",
       "      <td>Bar</td>\n",
       "      <td>Yes</td>\n",
       "      <td>Yes</td>\n",
       "      <td>Yes</td>\n",
       "      <td>Yes</td>\n",
       "      <td>Yes</td>\n",
       "      <td>Yes</td>\n",
       "      <td>Yes</td>\n",
       "      <td>1209</td>\n",
       "      <td>1534</td>\n",
       "      <td>1634</td>\n",
       "      <td>4302</td>\n",
       "      <td>9768</td>\n",
       "      <td>52%</td>\n",
       "    </tr>\n",
       "  </tbody>\n",
       "</table>\n",
       "</div>"
      ],
      "text/plain": [
       "  Account Name                           Account Address Decision Maker  \\\n",
       "0        Bar 1    2131 Patterson Road, Brooklyn NY 11201  Dorothy Rizzo   \n",
       "1        Bar 2  3685 Morningview Lane, New York NY 10013   Lawson Moore   \n",
       "2        Bar 3     2285 Ladybug Drive, New York NY 10013     Vin Hudson   \n",
       "\n",
       "     Phone Number Account Type Regular Sugar Free Yellow Edition Cooler?  \\\n",
       "0  (880) 283-6803          Bar     Yes        Yes            Yes     Yes   \n",
       "1  (711) 426-7350          Bar     Yes        Yes            Yes      No   \n",
       "2  (952) 952-5573          Bar     Yes        Yes            Yes     Yes   \n",
       "\n",
       "  Digital screen? Menu inclusion? Posters?  2017  2018  2019  2020  2021 CAGR  \n",
       "0             Yes             Yes      Yes  1982  5388  7063  7208  9093  36%  \n",
       "1             Yes             Yes      Yes  2786  3804  4121  6210  6909  20%  \n",
       "2             Yes             Yes      Yes  1209  1534  1634  4302  9768  52%  "
      ]
     },
     "execution_count": 66,
     "metadata": {},
     "output_type": "execute_result"
    }
   ],
   "source": [
    "df.head(3)"
   ]
  },
  {
   "cell_type": "code",
   "execution_count": 67,
   "id": "7be1c4ef",
   "metadata": {},
   "outputs": [
    {
     "data": {
      "text/plain": [
       "Account Name       0\n",
       "Account Address    0\n",
       "Decision Maker     0\n",
       "Phone Number       0\n",
       "Account Type       0\n",
       "Regular            0\n",
       "Sugar Free         0\n",
       "Yellow Edition     0\n",
       "Cooler?            0\n",
       "Digital screen?    0\n",
       "Menu inclusion?    0\n",
       "Posters?           0\n",
       "2017               0\n",
       "2018               0\n",
       "2019               0\n",
       "2020               0\n",
       "2021               0\n",
       "CAGR               0\n",
       "dtype: int64"
      ]
     },
     "execution_count": 67,
     "metadata": {},
     "output_type": "execute_result"
    }
   ],
   "source": [
    "df.isnull().sum()"
   ]
  },
  {
   "cell_type": "code",
   "execution_count": 68,
   "id": "4bc146ab",
   "metadata": {},
   "outputs": [
    {
     "data": {
      "text/plain": [
       "0"
      ]
     },
     "execution_count": 68,
     "metadata": {},
     "output_type": "execute_result"
    }
   ],
   "source": [
    "df.duplicated().sum()"
   ]
  },
  {
   "cell_type": "code",
   "execution_count": 69,
   "id": "e21c9303",
   "metadata": {},
   "outputs": [
    {
     "data": {
      "text/plain": [
       "(60, 18)"
      ]
     },
     "execution_count": 69,
     "metadata": {},
     "output_type": "execute_result"
    }
   ],
   "source": [
    "df.shape"
   ]
  },
  {
   "cell_type": "code",
   "execution_count": 70,
   "id": "ee259abd",
   "metadata": {},
   "outputs": [
    {
     "data": {
      "text/plain": [
       "Bar           15\n",
       "Restaurant    15\n",
       "Club          15\n",
       "Hotel         15\n",
       "Name: Account Type, dtype: int64"
      ]
     },
     "execution_count": 70,
     "metadata": {},
     "output_type": "execute_result"
    }
   ],
   "source": [
    "df['Account Type'].value_counts()"
   ]
  },
  {
   "cell_type": "code",
   "execution_count": 71,
   "id": "2f80a751",
   "metadata": {},
   "outputs": [
    {
     "data": {
      "text/plain": [
       "Index(['Account Name', 'Account Address', 'Decision Maker', 'Phone Number',\n",
       "       'Account Type', 'Regular', 'Sugar Free', 'Yellow Edition', 'Cooler?',\n",
       "       'Digital screen?', 'Menu inclusion?', 'Posters?', '2017', '2018',\n",
       "       '2019', '2020', '2021', 'CAGR'],\n",
       "      dtype='object')"
      ]
     },
     "execution_count": 71,
     "metadata": {},
     "output_type": "execute_result"
    }
   ],
   "source": [
    "df.columns"
   ]
  },
  {
   "cell_type": "code",
   "execution_count": 72,
   "id": "3050f16a",
   "metadata": {},
   "outputs": [
    {
     "name": "stdout",
     "output_type": "stream",
     "text": [
      "<class 'pandas.core.frame.DataFrame'>\n",
      "RangeIndex: 60 entries, 0 to 59\n",
      "Data columns (total 18 columns):\n",
      " #   Column           Non-Null Count  Dtype \n",
      "---  ------           --------------  ----- \n",
      " 0   Account Name     60 non-null     object\n",
      " 1   Account Address  60 non-null     object\n",
      " 2   Decision Maker   60 non-null     object\n",
      " 3   Phone Number     60 non-null     object\n",
      " 4   Account Type     60 non-null     object\n",
      " 5   Regular          60 non-null     object\n",
      " 6   Sugar Free       60 non-null     object\n",
      " 7   Yellow Edition   60 non-null     object\n",
      " 8   Cooler?          60 non-null     object\n",
      " 9   Digital screen?  60 non-null     object\n",
      " 10  Menu inclusion?  60 non-null     object\n",
      " 11  Posters?         60 non-null     object\n",
      " 12  2017             60 non-null     int64 \n",
      " 13  2018             60 non-null     int64 \n",
      " 14  2019             60 non-null     int64 \n",
      " 15  2020             60 non-null     int64 \n",
      " 16  2021             60 non-null     int64 \n",
      " 17  CAGR             60 non-null     object\n",
      "dtypes: int64(5), object(13)\n",
      "memory usage: 8.6+ KB\n"
     ]
    }
   ],
   "source": [
    "df.info()"
   ]
  },
  {
   "cell_type": "code",
   "execution_count": 73,
   "id": "8f6578d4",
   "metadata": {},
   "outputs": [],
   "source": [
    "df.columns=df.columns.str.replace(' ','')"
   ]
  },
  {
   "cell_type": "markdown",
   "id": "75bfad37",
   "metadata": {},
   "source": [
    "### Finding keys and insights"
   ]
  },
  {
   "cell_type": "markdown",
   "id": "c14ee381",
   "metadata": {},
   "source": [
    "#### Total sales by Account Type and Year"
   ]
  },
  {
   "cell_type": "code",
   "execution_count": 74,
   "id": "aa7f957b",
   "metadata": {},
   "outputs": [],
   "source": [
    "PIVOT_TABLE = df.pivot_table(index='AccountType',\n",
    "                            values=['2017','2018','2019','2020','2021'],aggfunc=sum)"
   ]
  },
  {
   "cell_type": "code",
   "execution_count": 78,
   "id": "2d07be63",
   "metadata": {},
   "outputs": [
    {
     "data": {
      "text/html": [
       "<div>\n",
       "<style scoped>\n",
       "    .dataframe tbody tr th:only-of-type {\n",
       "        vertical-align: middle;\n",
       "    }\n",
       "\n",
       "    .dataframe tbody tr th {\n",
       "        vertical-align: top;\n",
       "    }\n",
       "\n",
       "    .dataframe thead th {\n",
       "        text-align: right;\n",
       "    }\n",
       "</style>\n",
       "<table border=\"1\" class=\"dataframe\">\n",
       "  <thead>\n",
       "    <tr style=\"text-align: right;\">\n",
       "      <th></th>\n",
       "      <th>2017</th>\n",
       "      <th>2018</th>\n",
       "      <th>2019</th>\n",
       "      <th>2020</th>\n",
       "      <th>2021</th>\n",
       "    </tr>\n",
       "    <tr>\n",
       "      <th>AccountType</th>\n",
       "      <th></th>\n",
       "      <th></th>\n",
       "      <th></th>\n",
       "      <th></th>\n",
       "      <th></th>\n",
       "    </tr>\n",
       "  </thead>\n",
       "  <tbody>\n",
       "    <tr>\n",
       "      <th>Bar</th>\n",
       "      <td>51804</td>\n",
       "      <td>60121</td>\n",
       "      <td>60760</td>\n",
       "      <td>75991</td>\n",
       "      <td>94147</td>\n",
       "    </tr>\n",
       "    <tr>\n",
       "      <th>Club</th>\n",
       "      <td>47259</td>\n",
       "      <td>67275</td>\n",
       "      <td>79646</td>\n",
       "      <td>102065</td>\n",
       "      <td>112270</td>\n",
       "    </tr>\n",
       "    <tr>\n",
       "      <th>Hotel</th>\n",
       "      <td>44888</td>\n",
       "      <td>50567</td>\n",
       "      <td>70312</td>\n",
       "      <td>82583</td>\n",
       "      <td>100592</td>\n",
       "    </tr>\n",
       "    <tr>\n",
       "      <th>Restaurant</th>\n",
       "      <td>46025</td>\n",
       "      <td>65032</td>\n",
       "      <td>77731</td>\n",
       "      <td>89595</td>\n",
       "      <td>102185</td>\n",
       "    </tr>\n",
       "  </tbody>\n",
       "</table>\n",
       "</div>"
      ],
      "text/plain": [
       "              2017   2018   2019    2020    2021\n",
       "AccountType                                     \n",
       "Bar          51804  60121  60760   75991   94147\n",
       "Club         47259  67275  79646  102065  112270\n",
       "Hotel        44888  50567  70312   82583  100592\n",
       "Restaurant   46025  65032  77731   89595  102185"
      ]
     },
     "execution_count": 78,
     "metadata": {},
     "output_type": "execute_result"
    }
   ],
   "source": [
    "PIVOT_TABLE"
   ]
  },
  {
   "cell_type": "code",
   "execution_count": 79,
   "id": "5986ce21",
   "metadata": {},
   "outputs": [
    {
     "data": {
      "text/plain": [
       "<AxesSubplot: xlabel='AccountType'>"
      ]
     },
     "execution_count": 79,
     "metadata": {},
     "output_type": "execute_result"
    },
    {
     "data": {
      "image/png": "[encoded data removed]",
      "text/plain": [
       "<Figure size 640x480 with 1 Axes>"
      ]
     },
     "metadata": {},
     "output_type": "display_data"
    }
   ],
   "source": [
    "PIVOT_TABLE.plot(kind='bar')"
   ]
  },
  {
   "cell_type": "markdown",
   "id": "b959b980",
   "metadata": {},
   "source": [
    "Insights based on the data:\n",
    "\n",
    "- Overall, the revenue of each account type has increased from 2017 to 2021.\n",
    "- The revenue of the \"Club\" account type has increased the most among all the account types. In 2021, the revenue was 112270 which is a 138% increase from the revenue in 2017.\n",
    "- The \"Hotel\" account type has also seen significant growth with a 124% increase in revenue from 2017 to 2021.\n",
    "- The \"Restaurant\" account type has also seen moderate growth with a 121% increase in revenue from 2017 to 2021.\n",
    "- The \"Bar\" account type has seen the least growth among all the account types with an 80% increase in revenue from 2017 to 2021."
   ]
  },
  {
   "cell_type": "markdown",
   "id": "fa93a1f1",
   "metadata": {},
   "source": [
    "> Sales growth/trends by Year"
   ]
  },
  {
   "cell_type": "code",
   "execution_count": 80,
   "id": "d6c4dea7",
   "metadata": {},
   "outputs": [],
   "source": [
    "sale17=PIVOT_TABLE['2017'].sum()\n",
    "sale18=PIVOT_TABLE['2018'].sum()\n",
    "sale19=PIVOT_TABLE['2019'].sum()\n",
    "sale20=PIVOT_TABLE['2020'].sum()\n",
    "sale21=PIVOT_TABLE['2021'].sum()"
   ]
  },
  {
   "cell_type": "code",
   "execution_count": 81,
   "id": "7a214191",
   "metadata": {},
   "outputs": [],
   "source": [
    "saleTotal=[sale17,sale18,sale19,sale20,sale21]"
   ]
  },
  {
   "cell_type": "code",
   "execution_count": 82,
   "id": "c25e5635",
   "metadata": {},
   "outputs": [],
   "source": [
    "total_sales_df = pd.DataFrame({'Year': ['2017', '2018', '2019', '2020', '2021'],\n",
    "'Total Sales': saleTotal})"
   ]
  },
  {
   "cell_type": "code",
   "execution_count": 83,
   "id": "4944449c",
   "metadata": {},
   "outputs": [
    {
     "data": {
      "text/html": [
       "<div>\n",
       "<style scoped>\n",
       "    .dataframe tbody tr th:only-of-type {\n",
       "        vertical-align: middle;\n",
       "    }\n",
       "\n",
       "    .dataframe tbody tr th {\n",
       "        vertical-align: top;\n",
       "    }\n",
       "\n",
       "    .dataframe thead th {\n",
       "        text-align: right;\n",
       "    }\n",
       "</style>\n",
       "<table border=\"1\" class=\"dataframe\">\n",
       "  <thead>\n",
       "    <tr style=\"text-align: right;\">\n",
       "      <th></th>\n",
       "      <th>Year</th>\n",
       "      <th>Total Sales</th>\n",
       "    </tr>\n",
       "  </thead>\n",
       "  <tbody>\n",
       "    <tr>\n",
       "      <th>0</th>\n",
       "      <td>2017</td>\n",
       "      <td>189976</td>\n",
       "    </tr>\n",
       "    <tr>\n",
       "      <th>1</th>\n",
       "      <td>2018</td>\n",
       "      <td>242995</td>\n",
       "    </tr>\n",
       "    <tr>\n",
       "      <th>2</th>\n",
       "      <td>2019</td>\n",
       "      <td>288449</td>\n",
       "    </tr>\n",
       "    <tr>\n",
       "      <th>3</th>\n",
       "      <td>2020</td>\n",
       "      <td>350234</td>\n",
       "    </tr>\n",
       "    <tr>\n",
       "      <th>4</th>\n",
       "      <td>2021</td>\n",
       "      <td>409194</td>\n",
       "    </tr>\n",
       "  </tbody>\n",
       "</table>\n",
       "</div>"
      ],
      "text/plain": [
       "   Year  Total Sales\n",
       "0  2017       189976\n",
       "1  2018       242995\n",
       "2  2019       288449\n",
       "3  2020       350234\n",
       "4  2021       409194"
      ]
     },
     "execution_count": 83,
     "metadata": {},
     "output_type": "execute_result"
    }
   ],
   "source": [
    "total_sales_df"
   ]
  },
  {
   "cell_type": "code",
   "execution_count": 84,
   "id": "c0fdfa4b",
   "metadata": {},
   "outputs": [],
   "source": [
    "total_sales_df['Sales Growth'] = (total_sales_df['Total Sales'] - total_sales_df['Total Sales'].shift(1)) / total_sales_df['Total Sales'].shift(1)"
   ]
  },
  {
   "cell_type": "code",
   "execution_count": 85,
   "id": "c84aaa14",
   "metadata": {},
   "outputs": [
    {
     "data": {
      "text/plain": [
       "<AxesSubplot: xlabel='Year', ylabel='Sales Growth'>"
      ]
     },
     "execution_count": 85,
     "metadata": {},
     "output_type": "execute_result"
    },
    {
     "data": {
      "image/png": "[encoded data removed]",
      "text/plain": [
       "<Figure size 640x480 with 1 Axes>"
      ]
     },
     "metadata": {},
     "output_type": "display_data"
    }
   ],
   "source": [
    "sns.lineplot(data=total_sales_df,x='Year',y='Sales Growth')"
   ]
  },
  {
   "cell_type": "code",
   "execution_count": 86,
   "id": "dd0af2dc",
   "metadata": {},
   "outputs": [
    {
     "data": {
      "text/plain": [
       "<AxesSubplot: xlabel='Year', ylabel='Total Sales'>"
      ]
     },
     "execution_count": 86,
     "metadata": {},
     "output_type": "execute_result"
    },
    {
     "data": {
      "image/png": "[encoded data removed]",
      "text/plain": [
       "<Figure size 640x480 with 1 Axes>"
      ]
     },
     "metadata": {},
     "output_type": "display_data"
    }
   ],
   "source": [
    "sns.barplot(data=total_sales_df,x='Year',y='Total Sales')"
   ]
  },
  {
   "cell_type": "markdown",
   "id": "e225d837",
   "metadata": {},
   "source": [
    "Based on the data, here are some insights into the sales growth:\n",
    "\n",
    "- The total sales have increased consistently from 2017 to 2021, indicating a positive trend.\n",
    "- The growth in sales from 2017 to 2018 was 28%, from 2018 to 2019 was 19%, from 2019 to 2020 was 22%, and from 2020 to 2021 was 17%.\n",
    "- Total Sales: From 2017 to 2021, the total sales have increased consistently. In 2021, the total sales reached 409194, which is the highest among all the years.\n",
    "\n",
    "- Sales Growth: The sales growth rate was highest in 2018 with a growth rate of 27.91%. The sales growth rate decreased in the following years but still remained positive, indicating a steady increase in sales. The sales growth rate in 2021 was 16.83%."
   ]
  },
  {
   "cell_type": "code",
   "execution_count": 87,
   "id": "44d3f741",
   "metadata": {},
   "outputs": [
    {
     "data": {
      "text/html": [
       "<div>\n",
       "<style scoped>\n",
       "    .dataframe tbody tr th:only-of-type {\n",
       "        vertical-align: middle;\n",
       "    }\n",
       "\n",
       "    .dataframe tbody tr th {\n",
       "        vertical-align: top;\n",
       "    }\n",
       "\n",
       "    .dataframe thead th {\n",
       "        text-align: right;\n",
       "    }\n",
       "</style>\n",
       "<table border=\"1\" class=\"dataframe\">\n",
       "  <thead>\n",
       "    <tr style=\"text-align: right;\">\n",
       "      <th>AccountType</th>\n",
       "      <th>Bar</th>\n",
       "      <th>Club</th>\n",
       "      <th>Hotel</th>\n",
       "      <th>Restaurant</th>\n",
       "    </tr>\n",
       "  </thead>\n",
       "  <tbody>\n",
       "    <tr>\n",
       "      <th>2017</th>\n",
       "      <td>51804</td>\n",
       "      <td>47259</td>\n",
       "      <td>44888</td>\n",
       "      <td>46025</td>\n",
       "    </tr>\n",
       "    <tr>\n",
       "      <th>2018</th>\n",
       "      <td>60121</td>\n",
       "      <td>67275</td>\n",
       "      <td>50567</td>\n",
       "      <td>65032</td>\n",
       "    </tr>\n",
       "    <tr>\n",
       "      <th>2019</th>\n",
       "      <td>60760</td>\n",
       "      <td>79646</td>\n",
       "      <td>70312</td>\n",
       "      <td>77731</td>\n",
       "    </tr>\n",
       "    <tr>\n",
       "      <th>2020</th>\n",
       "      <td>75991</td>\n",
       "      <td>102065</td>\n",
       "      <td>82583</td>\n",
       "      <td>89595</td>\n",
       "    </tr>\n",
       "    <tr>\n",
       "      <th>2021</th>\n",
       "      <td>94147</td>\n",
       "      <td>112270</td>\n",
       "      <td>100592</td>\n",
       "      <td>102185</td>\n",
       "    </tr>\n",
       "  </tbody>\n",
       "</table>\n",
       "</div>"
      ],
      "text/plain": [
       "AccountType    Bar    Club   Hotel  Restaurant\n",
       "2017         51804   47259   44888       46025\n",
       "2018         60121   67275   50567       65032\n",
       "2019         60760   79646   70312       77731\n",
       "2020         75991  102065   82583       89595\n",
       "2021         94147  112270  100592      102185"
      ]
     },
     "execution_count": 87,
     "metadata": {},
     "output_type": "execute_result"
    }
   ],
   "source": [
    "new_df=PIVOT_TABLE.transpose()\n",
    "new_df"
   ]
  },
  {
   "cell_type": "code",
   "execution_count": 88,
   "id": "6df1ad36",
   "metadata": {},
   "outputs": [],
   "source": [
    "PIVOT_TABLE['Total'] = PIVOT_TABLE.sum(axis=1)"
   ]
  },
  {
   "cell_type": "markdown",
   "id": "dae62a7a",
   "metadata": {},
   "source": [
    "## Best and worst performing accounts (overall, and by account type)"
   ]
  },
  {
   "cell_type": "code",
   "execution_count": 89,
   "id": "d184002e",
   "metadata": {},
   "outputs": [
    {
     "data": {
      "text/html": [
       "<div>\n",
       "<style scoped>\n",
       "    .dataframe tbody tr th:only-of-type {\n",
       "        vertical-align: middle;\n",
       "    }\n",
       "\n",
       "    .dataframe tbody tr th {\n",
       "        vertical-align: top;\n",
       "    }\n",
       "\n",
       "    .dataframe thead th {\n",
       "        text-align: right;\n",
       "    }\n",
       "</style>\n",
       "<table border=\"1\" class=\"dataframe\">\n",
       "  <thead>\n",
       "    <tr style=\"text-align: right;\">\n",
       "      <th></th>\n",
       "      <th>2017</th>\n",
       "      <th>2018</th>\n",
       "      <th>2019</th>\n",
       "      <th>2020</th>\n",
       "      <th>2021</th>\n",
       "      <th>Total</th>\n",
       "    </tr>\n",
       "    <tr>\n",
       "      <th>AccountType</th>\n",
       "      <th></th>\n",
       "      <th></th>\n",
       "      <th></th>\n",
       "      <th></th>\n",
       "      <th></th>\n",
       "      <th></th>\n",
       "    </tr>\n",
       "  </thead>\n",
       "  <tbody>\n",
       "    <tr>\n",
       "      <th>Bar</th>\n",
       "      <td>51804</td>\n",
       "      <td>60121</td>\n",
       "      <td>60760</td>\n",
       "      <td>75991</td>\n",
       "      <td>94147</td>\n",
       "      <td>342823</td>\n",
       "    </tr>\n",
       "    <tr>\n",
       "      <th>Club</th>\n",
       "      <td>47259</td>\n",
       "      <td>67275</td>\n",
       "      <td>79646</td>\n",
       "      <td>102065</td>\n",
       "      <td>112270</td>\n",
       "      <td>408515</td>\n",
       "    </tr>\n",
       "    <tr>\n",
       "      <th>Hotel</th>\n",
       "      <td>44888</td>\n",
       "      <td>50567</td>\n",
       "      <td>70312</td>\n",
       "      <td>82583</td>\n",
       "      <td>100592</td>\n",
       "      <td>348942</td>\n",
       "    </tr>\n",
       "    <tr>\n",
       "      <th>Restaurant</th>\n",
       "      <td>46025</td>\n",
       "      <td>65032</td>\n",
       "      <td>77731</td>\n",
       "      <td>89595</td>\n",
       "      <td>102185</td>\n",
       "      <td>380568</td>\n",
       "    </tr>\n",
       "  </tbody>\n",
       "</table>\n",
       "</div>"
      ],
      "text/plain": [
       "              2017   2018   2019    2020    2021   Total\n",
       "AccountType                                             \n",
       "Bar          51804  60121  60760   75991   94147  342823\n",
       "Club         47259  67275  79646  102065  112270  408515\n",
       "Hotel        44888  50567  70312   82583  100592  348942\n",
       "Restaurant   46025  65032  77731   89595  102185  380568"
      ]
     },
     "execution_count": 89,
     "metadata": {},
     "output_type": "execute_result"
    }
   ],
   "source": [
    "PIVOT_TABLE"
   ]
  },
  {
   "cell_type": "markdown",
   "id": "cde5a23b",
   "metadata": {},
   "source": [
    "## Recent sales analysis:\n",
    "- Worst performing account type is Bar with sales 94147.\n",
    "- Best performing account type is CLub with sales 112270.\n",
    "### best Performing Account by Type:\n",
    "- For the Bar account type, the best performing year was 2021 with total sales of 94147.\n",
    "- For the Club account type, the best performing year was 2020 with total sales of 102065.\n",
    "- For the Hotel account type, the best performing year was 2021 with total sales of 100592.\n",
    "- For the Restaurant account type, the best performing year was 2021 with total sales of 102185.\n",
    "\n",
    "### Worst Performing Account by Type:\n",
    "- For the Bar account type, the worst performing year was 2017 with total sales of 51804.\n",
    "- For the Club account type, the worst performing year was 2017 with total sales of 47259.\n",
    "- For the Hotel account type, the worst performing year was 2018 with total sales of 50567.\n",
    "- For the Restaurant account type, the worst performing year was 2017 with total sales of 46025.\n"
   ]
  },
  {
   "cell_type": "markdown",
   "id": "8e73254b",
   "metadata": {},
   "source": [
    "## Effect of assortment (product lines) presence on sales"
   ]
  },
  {
   "cell_type": "markdown",
   "id": "29e92194",
   "metadata": {},
   "source": [
    "Formulating the null and alternative hypotheses:\n",
    "- H0: The type of establishment and subscription to the Yellow Edition are independent (not related)\n",
    "- Ha: The type of establishment and subscription to the Yellow Edition are dependent (related)"
   ]
  },
  {
   "cell_type": "code",
   "execution_count": 90,
   "id": "c7a061c5",
   "metadata": {},
   "outputs": [],
   "source": [
    "from scipy.stats import chi2_contingency"
   ]
  },
  {
   "cell_type": "code",
   "execution_count": 91,
   "id": "69e23d8c",
   "metadata": {},
   "outputs": [],
   "source": [
    "yellowEdition=pd.crosstab(df['YellowEdition'],df['AccountType'])\n",
    "Regular=pd.crosstab(df['Regular'],df['AccountType'])\n",
    "Sugarfree=pd.crosstab(df['SugarFree'],df['AccountType'])"
   ]
  },
  {
   "cell_type": "code",
   "execution_count": 92,
   "id": "f8ca17d8",
   "metadata": {},
   "outputs": [
    {
     "data": {
      "text/html": [
       "<div>\n",
       "<style scoped>\n",
       "    .dataframe tbody tr th:only-of-type {\n",
       "        vertical-align: middle;\n",
       "    }\n",
       "\n",
       "    .dataframe tbody tr th {\n",
       "        vertical-align: top;\n",
       "    }\n",
       "\n",
       "    .dataframe thead th {\n",
       "        text-align: right;\n",
       "    }\n",
       "</style>\n",
       "<table border=\"1\" class=\"dataframe\">\n",
       "  <thead>\n",
       "    <tr style=\"text-align: right;\">\n",
       "      <th>AccountType</th>\n",
       "      <th>Bar</th>\n",
       "      <th>Club</th>\n",
       "      <th>Hotel</th>\n",
       "      <th>Restaurant</th>\n",
       "    </tr>\n",
       "    <tr>\n",
       "      <th>YellowEdition</th>\n",
       "      <th></th>\n",
       "      <th></th>\n",
       "      <th></th>\n",
       "      <th></th>\n",
       "    </tr>\n",
       "  </thead>\n",
       "  <tbody>\n",
       "    <tr>\n",
       "      <th>No</th>\n",
       "      <td>7</td>\n",
       "      <td>3</td>\n",
       "      <td>5</td>\n",
       "      <td>15</td>\n",
       "    </tr>\n",
       "    <tr>\n",
       "      <th>Yes</th>\n",
       "      <td>8</td>\n",
       "      <td>12</td>\n",
       "      <td>10</td>\n",
       "      <td>0</td>\n",
       "    </tr>\n",
       "  </tbody>\n",
       "</table>\n",
       "</div>"
      ],
      "text/plain": [
       "AccountType    Bar  Club  Hotel  Restaurant\n",
       "YellowEdition                              \n",
       "No               7     3      5          15\n",
       "Yes              8    12     10           0"
      ]
     },
     "execution_count": 92,
     "metadata": {},
     "output_type": "execute_result"
    }
   ],
   "source": [
    "yellowEdition"
   ]
  },
  {
   "cell_type": "code",
   "execution_count": 93,
   "id": "016d1701",
   "metadata": {},
   "outputs": [
    {
     "data": {
      "text/plain": [
       "<AxesSubplot: xlabel='YellowEdition'>"
      ]
     },
     "execution_count": 93,
     "metadata": {},
     "output_type": "execute_result"
    },
    {
     "data": {
      "image/png": "[encoded data removed]",
      "text/plain": [
       "<Figure size 640x480 with 1 Axes>"
      ]
     },
     "metadata": {},
     "output_type": "display_data"
    }
   ],
   "source": [
    "yellowEdition.plot(kind='bar')"
   ]
  },
  {
   "cell_type": "code",
   "execution_count": 94,
   "id": "8bbc92a1",
   "metadata": {},
   "outputs": [],
   "source": [
    "chi2, p, expected ,stats = chi2_contingency(yellowEdition)"
   ]
  },
  {
   "cell_type": "code",
   "execution_count": 95,
   "id": "7c64a2a0",
   "metadata": {},
   "outputs": [
    {
     "name": "stdout",
     "output_type": "stream",
     "text": [
      "p-value:  6.119397697400122e-05\n"
     ]
    }
   ],
   "source": [
    "print(\"p-value: \", p)"
   ]
  },
  {
   "cell_type": "code",
   "execution_count": 96,
   "id": "d1ad4cff",
   "metadata": {},
   "outputs": [
    {
     "data": {
      "text/html": [
       "<div>\n",
       "<style scoped>\n",
       "    .dataframe tbody tr th:only-of-type {\n",
       "        vertical-align: middle;\n",
       "    }\n",
       "\n",
       "    .dataframe tbody tr th {\n",
       "        vertical-align: top;\n",
       "    }\n",
       "\n",
       "    .dataframe thead th {\n",
       "        text-align: right;\n",
       "    }\n",
       "</style>\n",
       "<table border=\"1\" class=\"dataframe\">\n",
       "  <thead>\n",
       "    <tr style=\"text-align: right;\">\n",
       "      <th>AccountType</th>\n",
       "      <th>Bar</th>\n",
       "      <th>Club</th>\n",
       "      <th>Hotel</th>\n",
       "      <th>Restaurant</th>\n",
       "    </tr>\n",
       "    <tr>\n",
       "      <th>SugarFree</th>\n",
       "      <th></th>\n",
       "      <th></th>\n",
       "      <th></th>\n",
       "      <th></th>\n",
       "    </tr>\n",
       "  </thead>\n",
       "  <tbody>\n",
       "    <tr>\n",
       "      <th>No</th>\n",
       "      <td>4</td>\n",
       "      <td>2</td>\n",
       "      <td>4</td>\n",
       "      <td>2</td>\n",
       "    </tr>\n",
       "    <tr>\n",
       "      <th>Yes</th>\n",
       "      <td>11</td>\n",
       "      <td>13</td>\n",
       "      <td>11</td>\n",
       "      <td>13</td>\n",
       "    </tr>\n",
       "  </tbody>\n",
       "</table>\n",
       "</div>"
      ],
      "text/plain": [
       "AccountType  Bar  Club  Hotel  Restaurant\n",
       "SugarFree                                \n",
       "No             4     2      4           2\n",
       "Yes           11    13     11          13"
      ]
     },
     "execution_count": 96,
     "metadata": {},
     "output_type": "execute_result"
    }
   ],
   "source": [
    "Sugarfree"
   ]
  },
  {
   "cell_type": "code",
   "execution_count": 97,
   "id": "2de44177",
   "metadata": {},
   "outputs": [],
   "source": [
    "chi2, p, expected ,stats = chi2_contingency(Sugarfree)"
   ]
  },
  {
   "cell_type": "code",
   "execution_count": 98,
   "id": "7e62b4be",
   "metadata": {},
   "outputs": [
    {
     "name": "stdout",
     "output_type": "stream",
     "text": [
      "p-value:  0.6443698056370253\n"
     ]
    }
   ],
   "source": [
    "print(\"p-value: \", p)"
   ]
  },
  {
   "cell_type": "code",
   "execution_count": 99,
   "id": "f5fce365",
   "metadata": {},
   "outputs": [
    {
     "data": {
      "text/plain": [
       "<AxesSubplot: xlabel='SugarFree'>"
      ]
     },
     "execution_count": 99,
     "metadata": {},
     "output_type": "execute_result"
    },
    {
     "data": {
      "image/png": "[encoded data removed]",
      "text/plain": [
       "<Figure size 640x480 with 1 Axes>"
      ]
     },
     "metadata": {},
     "output_type": "display_data"
    }
   ],
   "source": [
    "Sugarfree.plot(kind='bar')"
   ]
  },
  {
   "cell_type": "code",
   "execution_count": 113,
   "id": "a4fdeb42",
   "metadata": {},
   "outputs": [
    {
     "data": {
      "text/plain": [
       "<AxesSubplot: xlabel='YellowEdition'>"
      ]
     },
     "execution_count": 113,
     "metadata": {},
     "output_type": "execute_result"
    },
    {
     "data": {
      "image/png": "[encoded data removed]",
      "text/plain": [
       "<Figure size 640x480 with 1 Axes>"
      ]
     },
     "metadata": {},
     "output_type": "display_data"
    }
   ],
   "source": [
    "yellowEdition.plot(kind='bar')"
   ]
  },
  {
   "cell_type": "markdown",
   "id": "db776503",
   "metadata": {},
   "source": [
    "- Based on the data provided, it appears that the presence of Yellow Edition influences sales differently across different types of establishments. In bars, the presence of Yellow Edition results in a 1 unit increase in sales. In clubs, however, the presence of Yellow Edition leads to a 9 unit increase in sales. The presence of Yellow Edition also has a positive effect on sales in hotels, with sales increasing by 5 units. In restaurants, however, sales appear to decrease by 15 units with the presence of Yellow Edition.\n",
    "\n",
    "\n",
    "- These findings suggest that the impact of product line assortment on sales can vary greatly depending on the type of establishment and that it may be worth exploring why Yellow Edition has a negative impact on sales in restaurants. Further analysis, such as gathering more data or conducting customer surveys, could provide more insight into the reasons for this trend and help inform future decisions about product line assortment."
   ]
  },
  {
   "cell_type": "markdown",
   "id": "e06d90da",
   "metadata": {},
   "source": [
    "## Effectiveness of the different marketing/promotion programs\n"
   ]
  },
  {
   "cell_type": "code",
   "execution_count": 134,
   "id": "50ea406a",
   "metadata": {},
   "outputs": [],
   "source": [
    "cooler=pd.crosstab(df['Cooler?'],df['AccountType'])"
   ]
  },
  {
   "cell_type": "code",
   "execution_count": 136,
   "id": "b9609095",
   "metadata": {},
   "outputs": [
    {
     "data": {
      "text/html": [
       "<div>\n",
       "<style scoped>\n",
       "    .dataframe tbody tr th:only-of-type {\n",
       "        vertical-align: middle;\n",
       "    }\n",
       "\n",
       "    .dataframe tbody tr th {\n",
       "        vertical-align: top;\n",
       "    }\n",
       "\n",
       "    .dataframe thead th {\n",
       "        text-align: right;\n",
       "    }\n",
       "</style>\n",
       "<table border=\"1\" class=\"dataframe\">\n",
       "  <thead>\n",
       "    <tr style=\"text-align: right;\">\n",
       "      <th>AccountType</th>\n",
       "      <th>Bar</th>\n",
       "      <th>Club</th>\n",
       "      <th>Hotel</th>\n",
       "      <th>Restaurant</th>\n",
       "    </tr>\n",
       "    <tr>\n",
       "      <th>Cooler?</th>\n",
       "      <th></th>\n",
       "      <th></th>\n",
       "      <th></th>\n",
       "      <th></th>\n",
       "    </tr>\n",
       "  </thead>\n",
       "  <tbody>\n",
       "    <tr>\n",
       "      <th>No</th>\n",
       "      <td>7</td>\n",
       "      <td>7</td>\n",
       "      <td>13</td>\n",
       "      <td>7</td>\n",
       "    </tr>\n",
       "    <tr>\n",
       "      <th>Yes</th>\n",
       "      <td>8</td>\n",
       "      <td>8</td>\n",
       "      <td>2</td>\n",
       "      <td>8</td>\n",
       "    </tr>\n",
       "  </tbody>\n",
       "</table>\n",
       "</div>"
      ],
      "text/plain": [
       "AccountType  Bar  Club  Hotel  Restaurant\n",
       "Cooler?                                  \n",
       "No             7     7     13           7\n",
       "Yes            8     8      2           8"
      ]
     },
     "execution_count": 136,
     "metadata": {},
     "output_type": "execute_result"
    }
   ],
   "source": [
    "cooler"
   ]
  },
  {
   "cell_type": "code",
   "execution_count": 135,
   "id": "ec325834",
   "metadata": {},
   "outputs": [
    {
     "data": {
      "text/plain": [
       "<AxesSubplot: xlabel='Cooler?'>"
      ]
     },
     "execution_count": 135,
     "metadata": {},
     "output_type": "execute_result"
    },
    {
     "data": {
      "image/png": "[encoded data removed]",
      "text/plain": [
       "<Figure size 640x480 with 1 Axes>"
      ]
     },
     "metadata": {},
     "output_type": "display_data"
    }
   ],
   "source": [
    "cooler.plot(kind='bar')"
   ]
  },
  {
   "cell_type": "markdown",
   "id": "f83a9586",
   "metadata": {},
   "source": [
    "- Bars, Clubs and Restaurants have a similar number of establishments with coolers and without coolers.\n",
    "\n",
    "- Hotels are much less likely to have coolers compared to the other types of establishments.\n",
    "\n",
    "- The majority of establishments in each category do not have coolers.\n",
    "\n",
    "- The proportion of establishments with coolers is higher for Bars, Clubs, and Restaurants than for Hotels."
   ]
  },
  {
   "cell_type": "code",
   "execution_count": 138,
   "id": "b5fb9abb",
   "metadata": {},
   "outputs": [],
   "source": [
    "digital=pd.crosstab(df['Digitalscreen?'],df['AccountType'])"
   ]
  },
  {
   "cell_type": "code",
   "execution_count": 139,
   "id": "2872a5c2",
   "metadata": {},
   "outputs": [
    {
     "data": {
      "text/html": [
       "<div>\n",
       "<style scoped>\n",
       "    .dataframe tbody tr th:only-of-type {\n",
       "        vertical-align: middle;\n",
       "    }\n",
       "\n",
       "    .dataframe tbody tr th {\n",
       "        vertical-align: top;\n",
       "    }\n",
       "\n",
       "    .dataframe thead th {\n",
       "        text-align: right;\n",
       "    }\n",
       "</style>\n",
       "<table border=\"1\" class=\"dataframe\">\n",
       "  <thead>\n",
       "    <tr style=\"text-align: right;\">\n",
       "      <th>AccountType</th>\n",
       "      <th>Bar</th>\n",
       "      <th>Club</th>\n",
       "      <th>Hotel</th>\n",
       "      <th>Restaurant</th>\n",
       "    </tr>\n",
       "    <tr>\n",
       "      <th>Digitalscreen?</th>\n",
       "      <th></th>\n",
       "      <th></th>\n",
       "      <th></th>\n",
       "      <th></th>\n",
       "    </tr>\n",
       "  </thead>\n",
       "  <tbody>\n",
       "    <tr>\n",
       "      <th>No</th>\n",
       "      <td>7</td>\n",
       "      <td>8</td>\n",
       "      <td>15</td>\n",
       "      <td>10</td>\n",
       "    </tr>\n",
       "    <tr>\n",
       "      <th>Yes</th>\n",
       "      <td>8</td>\n",
       "      <td>7</td>\n",
       "      <td>0</td>\n",
       "      <td>5</td>\n",
       "    </tr>\n",
       "  </tbody>\n",
       "</table>\n",
       "</div>"
      ],
      "text/plain": [
       "AccountType     Bar  Club  Hotel  Restaurant\n",
       "Digitalscreen?                              \n",
       "No                7     8     15          10\n",
       "Yes               8     7      0           5"
      ]
     },
     "execution_count": 139,
     "metadata": {},
     "output_type": "execute_result"
    }
   ],
   "source": [
    "digital"
   ]
  },
  {
   "cell_type": "code",
   "execution_count": 140,
   "id": "3364ab04",
   "metadata": {},
   "outputs": [
    {
     "data": {
      "text/plain": [
       "<AxesSubplot: xlabel='Digitalscreen?'>"
      ]
     },
     "execution_count": 140,
     "metadata": {},
     "output_type": "execute_result"
    },
    {
     "data": {
      "image/png": "[encoded data removed]",
      "text/plain": [
       "<Figure size 640x480 with 1 Axes>"
      ]
     },
     "metadata": {},
     "output_type": "display_data"
    }
   ],
   "source": [
    "digital.plot(kind='bar')"
   ]
  },
  {
   "cell_type": "markdown",
   "id": "85e6279b",
   "metadata": {},
   "source": [
    "Some insights from the table are:\n",
    "\n",
    "- Bars and Clubs have a similar number of establishments with and without digital screens.\n",
    "\n",
    "- Hotels do not have any digital screens in this data set.\n",
    "\n",
    "- Restaurants have a higher proportion of establishments without digital screens compared to Bars and Clubs.\n",
    "\n",
    "- The overall trend shows that a larger number of establishments do not have digital screens.\n",
    "\n",
    "- These insights can provide valuable information for companies looking to sell digital screens to establishments, as they can target those types of establishments that  are more likely to have digital screens.\n",
    "\n",
    "\n",
    "\n",
    "\n",
    "\n",
    "\n"
   ]
  },
  {
   "cell_type": "code",
   "execution_count": 142,
   "id": "33e4a35d",
   "metadata": {},
   "outputs": [],
   "source": [
    "menu=pd.crosstab(df['Menuinclusion?'],df['AccountType'])"
   ]
  },
  {
   "cell_type": "code",
   "execution_count": 143,
   "id": "48d85f4c",
   "metadata": {},
   "outputs": [
    {
     "data": {
      "text/html": [
       "<div>\n",
       "<style scoped>\n",
       "    .dataframe tbody tr th:only-of-type {\n",
       "        vertical-align: middle;\n",
       "    }\n",
       "\n",
       "    .dataframe tbody tr th {\n",
       "        vertical-align: top;\n",
       "    }\n",
       "\n",
       "    .dataframe thead th {\n",
       "        text-align: right;\n",
       "    }\n",
       "</style>\n",
       "<table border=\"1\" class=\"dataframe\">\n",
       "  <thead>\n",
       "    <tr style=\"text-align: right;\">\n",
       "      <th>AccountType</th>\n",
       "      <th>Bar</th>\n",
       "      <th>Club</th>\n",
       "      <th>Hotel</th>\n",
       "      <th>Restaurant</th>\n",
       "    </tr>\n",
       "    <tr>\n",
       "      <th>Menuinclusion?</th>\n",
       "      <th></th>\n",
       "      <th></th>\n",
       "      <th></th>\n",
       "      <th></th>\n",
       "    </tr>\n",
       "  </thead>\n",
       "  <tbody>\n",
       "    <tr>\n",
       "      <th>No</th>\n",
       "      <td>3</td>\n",
       "      <td>3</td>\n",
       "      <td>5</td>\n",
       "      <td>7</td>\n",
       "    </tr>\n",
       "    <tr>\n",
       "      <th>Yes</th>\n",
       "      <td>12</td>\n",
       "      <td>12</td>\n",
       "      <td>10</td>\n",
       "      <td>8</td>\n",
       "    </tr>\n",
       "  </tbody>\n",
       "</table>\n",
       "</div>"
      ],
      "text/plain": [
       "AccountType     Bar  Club  Hotel  Restaurant\n",
       "Menuinclusion?                              \n",
       "No                3     3      5           7\n",
       "Yes              12    12     10           8"
      ]
     },
     "execution_count": 143,
     "metadata": {},
     "output_type": "execute_result"
    }
   ],
   "source": [
    "menu"
   ]
  },
  {
   "cell_type": "markdown",
   "id": "ff2040bf",
   "metadata": {},
   "source": [
    "Some insights from the table are:\n",
    "\n",
    "- Bars, Clubs and Restaurants have a higher proportion of establishments that include a menu on their digital screens compared to Hotels.\n",
    "\n",
    "- The majority of establishments in each category include a menu on their digital screens.\n",
    "\n",
    "- The proportion of establishments that include a menu on their digital screens is higher for Bars, Clubs and Restaurants than for Hotels."
   ]
  },
  {
   "cell_type": "markdown",
   "id": "59afadd6",
   "metadata": {},
   "source": [
    "# Recommendation"
   ]
  },
  {
   "cell_type": "markdown",
   "id": "fce07807",
   "metadata": {},
   "source": [
    "### Based on the insights from the three tables, the following recommendations can be made:\n",
    "\n",
    "- ### Companies looking to sell coolers should target Bars, Clubs, and Restaurants, as they have a higher proportion of establishments that have coolers compared to Hotels.\n",
    "\n",
    "- ### Companies looking to sell digital screens should focus on Bars and Clubs, as they have a similar number of establishments with and without digital screens. Hotels do not have any digital screens in this data set.\n",
    "\n",
    "- ### Companies looking to sell digital menu systems should target Bars, Clubs and Restaurants, as they have a higher proportion of establishments that include a menu on their digital screens compared to Hotels.\n",
    "\n",
    "- ### These recommendations can help companies better target their sales efforts and increase their chances of success."
   ]
  },
  {
   "cell_type": "code",
   "execution_count": 152,
   "id": "3f8cf287",
   "metadata": {},
   "outputs": [],
   "source": [
    "from sklearn.preprocessing import LabelEncoder"
   ]
  },
  {
   "cell_type": "code",
   "execution_count": 157,
   "id": "32f3795d",
   "metadata": {},
   "outputs": [],
   "source": [
    "for col in df.columns:\n",
    "    le = LabelEncoder()\n",
    "    le.fit(df[col])\n",
    "    df[col]=le.transform(df[col])"
   ]
  },
  {
   "cell_type": "code",
   "execution_count": 161,
   "id": "232ef8ee",
   "metadata": {},
   "outputs": [
    {
     "data": {
      "text/plain": [
       "Index(['AccountName', 'AccountAddress', 'DecisionMaker', 'PhoneNumber',\n",
       "       'AccountType', 'Regular', 'SugarFree', 'YellowEdition', 'Cooler?',\n",
       "       'Digitalscreen?', 'Menuinclusion?', 'Posters?', '2017', '2018', '2019',\n",
       "       '2020', '2021', 'CAGR'],\n",
       "      dtype='object')"
      ]
     },
     "execution_count": 161,
     "metadata": {},
     "output_type": "execute_result"
    }
   ],
   "source": [
    "df.columns"
   ]
  },
  {
   "cell_type": "code",
   "execution_count": null,
   "id": "8f5b1bac",
   "metadata": {},
   "outputs": [],
   "source": []
  },
  {
   "cell_type": "code",
   "execution_count": null,
   "id": "1805230a",
   "metadata": {},
   "outputs": [],
   "source": []
  },
  {
   "cell_type": "code",
   "execution_count": null,
   "id": "ae2c8b43",
   "metadata": {},
   "outputs": [],
   "source": []
  }
 ],
 "metadata": {
  "kernelspec": {
   "display_name": "Python 3 (ipykernel)",
   "language": "python",
   "name": "python3"
  },
  "language_info": {
   "codemirror_mode": {
    "name": "ipython",
    "version": 3
   },
   "file_extension": ".py",
   "mimetype": "text/x-python",
   "name": "python",
   "nbconvert_exporter": "python",
   "pygments_lexer": "ipython3",
   "version": "3.9.15"
  }
 },
 "nbformat": 4,
 "nbformat_minor": 5
}
